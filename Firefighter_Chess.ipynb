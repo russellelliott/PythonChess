{
  "nbformat": 4,
  "nbformat_minor": 0,
  "metadata": {
    "colab": {
      "provenance": [],
      "authorship_tag": "ABX9TyPIdT8AcP/xswJ6+Ov7mQvz",
      "include_colab_link": true
    },
    "kernelspec": {
      "name": "python3",
      "display_name": "Python 3"
    },
    "language_info": {
      "name": "python"
    }
  },
  "cells": [
    {
      "cell_type": "markdown",
      "metadata": {
        "id": "view-in-github",
        "colab_type": "text"
      },
      "source": [
        "<a href=\"https://colab.research.google.com/github/russellelliott/PythonChess/blob/main/Firefighter_Chess.ipynb\" target=\"_parent\"><img src=\"https://colab.research.google.com/assets/colab-badge.svg\" alt=\"Open In Colab\"/></a>"
      ]
    },
    {
      "cell_type": "markdown",
      "source": [
        "# Firefighter Chess\n",
        "Source video: https://www.youtube.com/watch?v=JqdnPCEvvqY\n",
        "\n",
        "## Given Rules\n",
        "In this variant, one player controls a firefighter and their firehose.\n",
        "\n",
        "### Firefighter\n",
        "- Starting position: e1\n",
        "- Movement: King\n",
        "- Attack: None; only firehose can capture fire.\n",
        "\n",
        "### Firehose\n",
        "- Starting position: d1\n",
        "- Movement: Moves with the firefighter; it cannot move independently\n",
        "- Attack: Has queen attacks. Can capture multiple fire pieces along its attack path.\n",
        "\n",
        "### Fire\n",
        "- Starting positions: a4-h5 (16 pieces along ranks 4 and 5)\n",
        "- Movement: Pawn movement. 2 pieces moved per turn.\n",
        "- Attack: Pawn captures. Can only be captured by firehose attack. Can be jumped over.\n",
        "\n",
        "### Victims\n",
        "- Starting positions: h1-h7 (back rank royal pieces)\n",
        "- Movement: regular piece movement\n",
        "- Attack: None; only firehose can capture fire.\n",
        "\n",
        "## Goal\n",
        "The game ends in any of these conditions:\n",
        "- Firefighter: extinguish all the fire\n",
        "- Fire: Capture ANY of the victim pieces\n",
        "- Victims: Evade capture and have all pieces reach the other site of the board\n",
        "\n",
        "The firefighter and victims are on the same team.\n",
        "\n",
        "## Implementation\n",
        "The firefighter and victims are one color, while the fire is the opposite color.\n",
        "\n",
        "### Player count\n",
        "The game could be played with 2 or 3 players.\n",
        "\n",
        "#### 2 Players\n",
        "- Player 1 controls the firefighter and their hose, and all the victim pieces.\n",
        "- Player 2 controls the fire pieces.\n",
        "\n",
        "#### 3 Players\n",
        "- Player 1 controls the firefighter and their hose.\n",
        "- Player 2 controls the fire pieces.\n",
        "- Player 3 controls the victim pieces."
      ],
      "metadata": {
        "id": "Y5CBYbXc7kk2"
      }
    },
    {
      "cell_type": "code",
      "execution_count": 1,
      "metadata": {
        "colab": {
          "base_uri": "https://localhost:8080/"
        },
        "id": "RbgFiGQt7R5Q",
        "outputId": "1f81e7de-13fc-4c17-9d07-020270c2fd8f"
      },
      "outputs": [
        {
          "output_type": "stream",
          "name": "stdout",
          "text": [
            "Looking in indexes: https://pypi.org/simple, https://us-python.pkg.dev/colab-wheels/public/simple/\n",
            "Collecting CairoSVG\n",
            "  Downloading CairoSVG-2.5.2-py3-none-any.whl (45 kB)\n",
            "\u001b[K     |████████████████████████████████| 45 kB 1.7 MB/s \n",
            "\u001b[?25hCollecting tinycss2\n",
            "  Downloading tinycss2-1.1.1-py3-none-any.whl (21 kB)\n",
            "Requirement already satisfied: pillow in /usr/local/lib/python3.7/dist-packages (from CairoSVG) (7.1.2)\n",
            "Requirement already satisfied: defusedxml in /usr/local/lib/python3.7/dist-packages (from CairoSVG) (0.7.1)\n",
            "Collecting cssselect2\n",
            "  Downloading cssselect2-0.7.0-py3-none-any.whl (15 kB)\n",
            "Collecting cairocffi\n",
            "  Downloading cairocffi-1.4.0.tar.gz (69 kB)\n",
            "\u001b[K     |████████████████████████████████| 69 kB 3.9 MB/s \n",
            "\u001b[?25hRequirement already satisfied: cffi>=1.1.0 in /usr/local/lib/python3.7/dist-packages (from cairocffi->CairoSVG) (1.15.1)\n",
            "Requirement already satisfied: pycparser in /usr/local/lib/python3.7/dist-packages (from cffi>=1.1.0->cairocffi->CairoSVG) (2.21)\n",
            "Requirement already satisfied: webencodings in /usr/local/lib/python3.7/dist-packages (from cssselect2->CairoSVG) (0.5.1)\n",
            "Building wheels for collected packages: cairocffi\n",
            "  Building wheel for cairocffi (setup.py) ... \u001b[?25l\u001b[?25hdone\n",
            "  Created wheel for cairocffi: filename=cairocffi-1.4.0-py3-none-any.whl size=88775 sha256=60646e7d28fb9e3c7e276ee34eebea0cf6b0ed1911583299ad81948994a7e556\n",
            "  Stored in directory: /root/.cache/pip/wheels/7a/2b/da/aec872f95d2c24105496ef149a9a576f52daf686f8f2127541\n",
            "Successfully built cairocffi\n",
            "Installing collected packages: tinycss2, cssselect2, cairocffi, CairoSVG\n",
            "Successfully installed CairoSVG-2.5.2 cairocffi-1.4.0 cssselect2-0.7.0 tinycss2-1.1.1\n"
          ]
        }
      ],
      "source": [
        "pip install CairoSVG"
      ]
    },
    {
      "cell_type": "code",
      "source": [
        "import chess\n",
        "import chess.svg\n",
        "from cairosvg import svg2png\n",
        "import matplotlib.pyplot as plt\n",
        "import matplotlib.image as mpimg\n",
        "\n",
        "#display the board as a png on matplotlib\n",
        "def displayBoard(board):\n",
        "    svg = chess.svg.board(board, size=350) #make the svg\n",
        "    svg2png(bytestring=svg,write_to='output.png') #convert to png\n",
        "    img = mpimg.imread('output.png')\n",
        "    imgplot = plt.imshow(img)\n",
        "    plt.show() #show the png"
      ],
      "metadata": {
        "id": "azhhHe2Y7il5"
      },
      "execution_count": 2,
      "outputs": []
    },
    {
      "cell_type": "markdown",
      "source": [
        "## Swap capitalization in string\n",
        "https://www.codegrepper.com/code-examples/python/python+reverse+upper+and+lowercase+of+string"
      ],
      "metadata": {
        "id": "HGNmgHxH_wiI"
      }
    },
    {
      "cell_type": "markdown",
      "source": [
        "# Main Code"
      ],
      "metadata": {
        "id": "EG2qFnSe-YQH"
      }
    },
    {
      "cell_type": "code",
      "source": [
        "#custom FEN for board start\n",
        "end = \" w KQkq - 0 1\" #end of the FEN string\n",
        "startWhite = \"RNBQKBNR/8/8/pppppppp/pppppppp/8/8/3QK3\" #starting position in which the firefighter and victims are the white pieces\n",
        "startBlack = startWhite.swapcase() #starting position in which the firefighter and victims are the black pieces.\n",
        "\n",
        "#add the end\n",
        "startWhite+=end\n",
        "startBlack+=end\n",
        "\n",
        "print(startWhite)\n",
        "print(startBlack)\n",
        "\n",
        "side = input(\"Choose a side to be the firefighter and victims: w or b: \")\n",
        "board = chess.Board()\n",
        "if side == \"w\":\n",
        "    board = chess.Board(startWhite)\n",
        "elif side == \"b\":\n",
        "    board = chess.Board(startBlack)\n",
        "\n",
        "displayBoard(board)"
      ],
      "metadata": {
        "colab": {
          "base_uri": "https://localhost:8080/",
          "height": 323
        },
        "id": "o9wEPDQ--Z-m",
        "outputId": "723679fc-0c09-45ef-aad9-a80eb0d22601"
      },
      "execution_count": 13,
      "outputs": [
        {
          "name": "stdout",
          "output_type": "stream",
          "text": [
            "RNBQKBNR/8/8/pppppppp/pppppppp/8/8/3QK3 w KQkq - 0 1\n",
            "rnbqkbnr/8/8/PPPPPPPP/PPPPPPPP/8/8/3qk3 w KQkq - 0 1\n",
            "Choose a side to be the firefighter and victims: w or b: w\n"
          ]
        },
        {
          "output_type": "display_data",
          "data": {
            "text/plain": [
              "<Figure size 432x288 with 1 Axes>"
            ],
            "image/png": "[encoded data removed]"
          },
          "metadata": {
            "needs_background": "light"
          }
        }
      ]
    }
  ]
}